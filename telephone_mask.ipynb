{
 "cells": [
  {
   "cell_type": "code",
   "execution_count": 1,
   "metadata": {},
   "outputs": [
    {
     "name": "stdout",
     "output_type": "stream",
     "text": [
      "12345678901312\n"
     ]
    }
   ],
   "source": [
    "mask = \"+7 (XXX) XXX - XX - XX\"\n",
    "counter = 0\n",
    "result = \"\"\n",
    "while (counter < 10):\n",
    "    inp = input()\n",
    "    if not inp.isdigit:\n",
    "        continue\n",
    "    counter += len(inp)\n",
    "    result += inp\n",
    "counter = 0"
   ]
  },
  {
   "cell_type": "code",
   "execution_count": 2,
   "metadata": {},
   "outputs": [
    {
     "data": {
      "text/plain": [
       "'+7 (123) 456 - 78 - 90'"
      ]
     },
     "execution_count": 2,
     "metadata": {},
     "output_type": "execute_result"
    }
   ],
   "source": [
    "resulting_string = \"\"\n",
    "for i in mask:\n",
    "    if i == \"X\":\n",
    "        resulting_string += result[counter]\n",
    "        counter += 1\n",
    "    else:\n",
    "        resulting_string += i\n",
    "counter = 0\n",
    "resulting_string"
   ]
  }
 ],
 "metadata": {
  "kernelspec": {
   "display_name": "Python 3",
   "language": "python",
   "name": "python3"
  },
  "language_info": {
   "codemirror_mode": {
    "name": "ipython",
    "version": 3
   },
   "file_extension": ".py",
   "mimetype": "text/x-python",
   "name": "python",
   "nbconvert_exporter": "python",
   "pygments_lexer": "ipython3",
   "version": "3.7.3"
  }
 },
 "nbformat": 4,
 "nbformat_minor": 2
}
