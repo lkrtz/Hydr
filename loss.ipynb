{
 "cells": [
  {
   "cell_type": "code",
   "execution_count": 1,
   "metadata": {},
   "outputs": [],
   "source": [
    "import pandas as pd\n",
    "import numpy as np\n",
    "from math import sqrt\n",
    "from IPython.display import display, Math, Latex"
   ]
  },
  {
   "cell_type": "markdown",
   "metadata": {},
   "source": [
    "# дано\n",
    "<div>Длины труб(d) их их диаметры(d)</div>\n",
    "<div>Напор(Н)</div>\n",
    "<div>Коэффициент $\\alpha$</div>"
   ]
  },
  {
   "cell_type": "code",
   "execution_count": 2,
   "metadata": {},
   "outputs": [
    {
     "data": {
      "text/html": [
       "<div>\n",
       "<style scoped>\n",
       "    .dataframe tbody tr th:only-of-type {\n",
       "        vertical-align: middle;\n",
       "    }\n",
       "\n",
       "    .dataframe tbody tr th {\n",
       "        vertical-align: top;\n",
       "    }\n",
       "\n",
       "    .dataframe thead th {\n",
       "        text-align: right;\n",
       "    }\n",
       "</style>\n",
       "<table border=\"1\" class=\"dataframe\">\n",
       "  <thead>\n",
       "    <tr style=\"text-align: right;\">\n",
       "      <th></th>\n",
       "      <th>l</th>\n",
       "      <th>d</th>\n",
       "    </tr>\n",
       "  </thead>\n",
       "  <tbody>\n",
       "    <tr>\n",
       "      <th>L1</th>\n",
       "      <td>65</td>\n",
       "      <td>0.6</td>\n",
       "    </tr>\n",
       "    <tr>\n",
       "      <th>L2</th>\n",
       "      <td>150</td>\n",
       "      <td>0.9</td>\n",
       "    </tr>\n",
       "    <tr>\n",
       "      <th>L3</th>\n",
       "      <td>220</td>\n",
       "      <td>0.7</td>\n",
       "    </tr>\n",
       "  </tbody>\n",
       "</table>\n",
       "</div>"
      ],
      "text/plain": [
       "      l    d\n",
       "L1   65  0.6\n",
       "L2  150  0.9\n",
       "L3  220  0.7"
      ]
     },
     "execution_count": 2,
     "metadata": {},
     "output_type": "execute_result"
    }
   ],
   "source": [
    "given_data = pd.DataFrame({\n",
    "    \"l\" : [65, 150, 220],\n",
    "    \"d\" : [0.6, 0.9, 0.7],\n",
    "}, index = ['L1', 'L2', 'L3'])\n",
    "H = 35\n",
    "alpha = 1\n",
    "given_data"
   ]
  },
  {
   "cell_type": "markdown",
   "metadata": {},
   "source": [
    "# используемые формулы\n",
    "Путевые потери $\\lambda*l_i / d_i^{0.3}, \\lambda = 0.021/d_i$ <br>\n",
    "Потери на резкое расширение $1 - (\\omega_1/\\omega_2)^2$ <br>\n",
    "Потери на резское сужение $0.5 * (1 - (\\omega_2/\\omega_1)^2)$ <br>\n",
    "Площадь сечения $\\pi * d^2/4$ <br>\n",
    "Отношение скоростей $v_3/v_1, v_3/v_2$ <br>\n",
    "Кинетическая энергия $v^2 / (2 * g)$ <br>"
   ]
  },
  {
   "cell_type": "code",
   "execution_count": 3,
   "metadata": {},
   "outputs": [],
   "source": [
    "pump_loss = lambda l,d : 0.021*l/(d**1.3)\n",
    "expansion_loss = lambda d1, d2: (1 - (d1/d2)**2)\n",
    "constriction_loss = lambda d1, d2: 0.5*(1 - (d2/d1)**2)\n",
    "w = lambda d: np.pi * d**2 / 4\n",
    "beta = lambda d: given_data['d'][2]**2 / d**2\n",
    "kinetic_en = lambda v: v**2/(2*9.81)"
   ]
  },
  {
   "cell_type": "code",
   "execution_count": 4,
   "metadata": {},
   "outputs": [],
   "source": [
    "Sheet = pd.DataFrame({\n",
    "    \"Потери\" : ['Вход', 'по L1', 'резкое расширение', 'по L2', 'резкое сужение', 'по L3/2', 'задвижка', 'по L3/2', 'Выход'],\n",
    "    'zeta' : [0.5,\n",
    "                pump_loss(*given_data.loc['L1']),\n",
    "                expansion_loss(*given_data['d'][:2]),\n",
    "                pump_loss(*given_data.loc['L2']),\n",
    "                constriction_loss(*given_data['d'][1:3]),\n",
    "                pump_loss(*given_data.loc['L3'])/2,\n",
    "                2.06,\n",
    "                pump_loss(*given_data.loc['L3'])/2,\n",
    "                1],\n",
    "    'beta^2' : [\n",
    "                beta(given_data['d'][0])**2,\n",
    "                beta(given_data['d'][0])**2,\n",
    "                beta(given_data['d'][1])**2,\n",
    "                beta(given_data['d'][1])**2,\n",
    "                1,\n",
    "                1,\n",
    "                1,\n",
    "                1,\n",
    "                1,],\n",
    "})"
   ]
  },
  {
   "cell_type": "code",
   "execution_count": 5,
   "metadata": {},
   "outputs": [],
   "source": [
    "Sheet['zeta*beta^2'] = Sheet['zeta']*Sheet['beta^2']\n",
    "\n",
    "zb_sum = Sheet['zeta*beta^2'].sum()\n",
    "v3 = sqrt(2*9.81*H/(1 + zb_sum))\n",
    "v2 = beta(given_data['d'][1])*v3\n",
    "v1 = beta(given_data['d'][0])*v3\n",
    "Sheet['a*v^2/2g'] = list(map(\n",
    "    kinetic_en,\n",
    "    [v1, v1, v2, v2, v3, v3, v3, v3, v3]\n",
    "))\n",
    "Sheet['hf'] = Sheet['zeta'] * Sheet['a*v^2/2g']\n",
    "Sheet['Loss sum'] = Sheet['hf'].cumsum()"
   ]
  },
  {
   "cell_type": "code",
   "execution_count": 6,
   "metadata": {
    "scrolled": true
   },
   "outputs": [
    {
     "data": {
      "text/html": [
       "<div>\n",
       "<style scoped>\n",
       "    .dataframe tbody tr th:only-of-type {\n",
       "        vertical-align: middle;\n",
       "    }\n",
       "\n",
       "    .dataframe tbody tr th {\n",
       "        vertical-align: top;\n",
       "    }\n",
       "\n",
       "    .dataframe thead th {\n",
       "        text-align: right;\n",
       "    }\n",
       "</style>\n",
       "<table border=\"1\" class=\"dataframe\">\n",
       "  <thead>\n",
       "    <tr style=\"text-align: right;\">\n",
       "      <th></th>\n",
       "      <th>Потери</th>\n",
       "      <th>zeta</th>\n",
       "      <th>beta^2</th>\n",
       "      <th>zeta*beta^2</th>\n",
       "      <th>a*v^2/2g</th>\n",
       "      <th>hf</th>\n",
       "      <th>Loss sum</th>\n",
       "    </tr>\n",
       "  </thead>\n",
       "  <tbody>\n",
       "    <tr>\n",
       "      <th>0</th>\n",
       "      <td>Вход</td>\n",
       "      <td>0.500000</td>\n",
       "      <td>1.852623</td>\n",
       "      <td>0.926312</td>\n",
       "      <td>3.418625</td>\n",
       "      <td>1.709312</td>\n",
       "      <td>1.709312</td>\n",
       "    </tr>\n",
       "    <tr>\n",
       "      <th>1</th>\n",
       "      <td>по L1</td>\n",
       "      <td>2.651771</td>\n",
       "      <td>1.852623</td>\n",
       "      <td>4.912733</td>\n",
       "      <td>3.418625</td>\n",
       "      <td>9.065411</td>\n",
       "      <td>10.774723</td>\n",
       "    </tr>\n",
       "    <tr>\n",
       "      <th>2</th>\n",
       "      <td>резкое расширение</td>\n",
       "      <td>0.555556</td>\n",
       "      <td>0.365950</td>\n",
       "      <td>0.203306</td>\n",
       "      <td>0.675284</td>\n",
       "      <td>0.375158</td>\n",
       "      <td>11.149881</td>\n",
       "    </tr>\n",
       "    <tr>\n",
       "      <th>3</th>\n",
       "      <td>по L2</td>\n",
       "      <td>3.612395</td>\n",
       "      <td>0.365950</td>\n",
       "      <td>1.321957</td>\n",
       "      <td>0.675284</td>\n",
       "      <td>2.439393</td>\n",
       "      <td>13.589273</td>\n",
       "    </tr>\n",
       "    <tr>\n",
       "      <th>4</th>\n",
       "      <td>резкое сужение</td>\n",
       "      <td>0.197531</td>\n",
       "      <td>1.000000</td>\n",
       "      <td>0.197531</td>\n",
       "      <td>1.845289</td>\n",
       "      <td>0.364501</td>\n",
       "      <td>13.953775</td>\n",
       "    </tr>\n",
       "    <tr>\n",
       "      <th>5</th>\n",
       "      <td>по L3/2</td>\n",
       "      <td>3.672692</td>\n",
       "      <td>1.000000</td>\n",
       "      <td>3.672692</td>\n",
       "      <td>1.845289</td>\n",
       "      <td>6.777177</td>\n",
       "      <td>20.730952</td>\n",
       "    </tr>\n",
       "    <tr>\n",
       "      <th>6</th>\n",
       "      <td>задвижка</td>\n",
       "      <td>2.060000</td>\n",
       "      <td>1.000000</td>\n",
       "      <td>2.060000</td>\n",
       "      <td>1.845289</td>\n",
       "      <td>3.801294</td>\n",
       "      <td>24.532246</td>\n",
       "    </tr>\n",
       "    <tr>\n",
       "      <th>7</th>\n",
       "      <td>по L3/2</td>\n",
       "      <td>3.672692</td>\n",
       "      <td>1.000000</td>\n",
       "      <td>3.672692</td>\n",
       "      <td>1.845289</td>\n",
       "      <td>6.777177</td>\n",
       "      <td>31.309423</td>\n",
       "    </tr>\n",
       "    <tr>\n",
       "      <th>8</th>\n",
       "      <td>Выход</td>\n",
       "      <td>1.000000</td>\n",
       "      <td>1.000000</td>\n",
       "      <td>1.000000</td>\n",
       "      <td>1.845289</td>\n",
       "      <td>1.845289</td>\n",
       "      <td>33.154711</td>\n",
       "    </tr>\n",
       "  </tbody>\n",
       "</table>\n",
       "</div>"
      ],
      "text/plain": [
       "              Потери      zeta    beta^2  zeta*beta^2  a*v^2/2g        hf  \\\n",
       "0               Вход  0.500000  1.852623     0.926312  3.418625  1.709312   \n",
       "1              по L1  2.651771  1.852623     4.912733  3.418625  9.065411   \n",
       "2  резкое расширение  0.555556  0.365950     0.203306  0.675284  0.375158   \n",
       "3              по L2  3.612395  0.365950     1.321957  0.675284  2.439393   \n",
       "4     резкое сужение  0.197531  1.000000     0.197531  1.845289  0.364501   \n",
       "5            по L3/2  3.672692  1.000000     3.672692  1.845289  6.777177   \n",
       "6           задвижка  2.060000  1.000000     2.060000  1.845289  3.801294   \n",
       "7            по L3/2  3.672692  1.000000     3.672692  1.845289  6.777177   \n",
       "8              Выход  1.000000  1.000000     1.000000  1.845289  1.845289   \n",
       "\n",
       "    Loss sum  \n",
       "0   1.709312  \n",
       "1  10.774723  \n",
       "2  11.149881  \n",
       "3  13.589273  \n",
       "4  13.953775  \n",
       "5  20.730952  \n",
       "6  24.532246  \n",
       "7  31.309423  \n",
       "8  33.154711  "
      ]
     },
     "execution_count": 6,
     "metadata": {},
     "output_type": "execute_result"
    }
   ],
   "source": [
    "Sheet"
   ]
  },
  {
   "cell_type": "code",
   "execution_count": 7,
   "metadata": {},
   "outputs": [
    {
     "data": {
      "text/plain": [
       "35.00000000000001"
      ]
     },
     "execution_count": 7,
     "metadata": {},
     "output_type": "execute_result"
    }
   ],
   "source": [
    "Sheet['a*v^2/2g'][8] + Sheet['Loss sum'][8]"
   ]
  },
  {
   "cell_type": "code",
   "execution_count": 11,
   "metadata": {},
   "outputs": [
    {
     "data": {
      "text/plain": [
       "<matplotlib.axes._subplots.AxesSubplot at 0x7fa31a99bb38>"
      ]
     },
     "execution_count": 11,
     "metadata": {},
     "output_type": "execute_result"
    },
    {
     "data": {
      "image/png": "[encoded data removed]",
      "text/plain": [
       "<Figure size 432x288 with 1 Axes>"
      ]
     },
     "metadata": {
      "needs_background": "light"
     },
     "output_type": "display_data"
    }
   ],
   "source": [
    "Result = pd.DataFrame()\n",
    "Result['dist'] = pd.Series([0, given_data['l'][0], #tube1\n",
    "                           0, given_data['l'][1], #tube2\n",
    "                           0, given_data['l'][2]/2, 0, given_data['l'][2]/2, 0 #tube3\n",
    "                          ]).cumsum()\n",
    "Result['Гидравлическая линия'] = H - Sheet['Loss sum']\n",
    "Result['Пьезометрическая линия'] = Result['Гидравлическая линия'] - Sheet['a*v^2/2g']\n",
    "\n",
    "Result.plot(x = 'dist')"
   ]
  },
  {
   "cell_type": "code",
   "execution_count": 9,
   "metadata": {},
   "outputs": [
    {
     "data": {
      "text/html": [
       "<div>\n",
       "<style scoped>\n",
       "    .dataframe tbody tr th:only-of-type {\n",
       "        vertical-align: middle;\n",
       "    }\n",
       "\n",
       "    .dataframe tbody tr th {\n",
       "        vertical-align: top;\n",
       "    }\n",
       "\n",
       "    .dataframe thead th {\n",
       "        text-align: right;\n",
       "    }\n",
       "</style>\n",
       "<table border=\"1\" class=\"dataframe\">\n",
       "  <thead>\n",
       "    <tr style=\"text-align: right;\">\n",
       "      <th></th>\n",
       "      <th>dist</th>\n",
       "      <th>Гидравлическая линия</th>\n",
       "      <th>Пьезометрическая линия</th>\n",
       "    </tr>\n",
       "  </thead>\n",
       "  <tbody>\n",
       "    <tr>\n",
       "      <th>0</th>\n",
       "      <td>0.0</td>\n",
       "      <td>33.290688</td>\n",
       "      <td>2.987206e+01</td>\n",
       "    </tr>\n",
       "    <tr>\n",
       "      <th>1</th>\n",
       "      <td>65.0</td>\n",
       "      <td>24.225277</td>\n",
       "      <td>2.080665e+01</td>\n",
       "    </tr>\n",
       "    <tr>\n",
       "      <th>2</th>\n",
       "      <td>65.0</td>\n",
       "      <td>23.850119</td>\n",
       "      <td>2.317484e+01</td>\n",
       "    </tr>\n",
       "    <tr>\n",
       "      <th>3</th>\n",
       "      <td>215.0</td>\n",
       "      <td>21.410727</td>\n",
       "      <td>2.073544e+01</td>\n",
       "    </tr>\n",
       "    <tr>\n",
       "      <th>4</th>\n",
       "      <td>215.0</td>\n",
       "      <td>21.046225</td>\n",
       "      <td>1.920094e+01</td>\n",
       "    </tr>\n",
       "    <tr>\n",
       "      <th>5</th>\n",
       "      <td>325.0</td>\n",
       "      <td>14.269048</td>\n",
       "      <td>1.242376e+01</td>\n",
       "    </tr>\n",
       "    <tr>\n",
       "      <th>6</th>\n",
       "      <td>325.0</td>\n",
       "      <td>10.467754</td>\n",
       "      <td>8.622465e+00</td>\n",
       "    </tr>\n",
       "    <tr>\n",
       "      <th>7</th>\n",
       "      <td>435.0</td>\n",
       "      <td>3.690577</td>\n",
       "      <td>1.845289e+00</td>\n",
       "    </tr>\n",
       "    <tr>\n",
       "      <th>8</th>\n",
       "      <td>435.0</td>\n",
       "      <td>1.845289</td>\n",
       "      <td>-4.218847e-15</td>\n",
       "    </tr>\n",
       "  </tbody>\n",
       "</table>\n",
       "</div>"
      ],
      "text/plain": [
       "    dist  Гидравлическая линия  Пьезометрическая линия\n",
       "0    0.0             33.290688            2.987206e+01\n",
       "1   65.0             24.225277            2.080665e+01\n",
       "2   65.0             23.850119            2.317484e+01\n",
       "3  215.0             21.410727            2.073544e+01\n",
       "4  215.0             21.046225            1.920094e+01\n",
       "5  325.0             14.269048            1.242376e+01\n",
       "6  325.0             10.467754            8.622465e+00\n",
       "7  435.0              3.690577            1.845289e+00\n",
       "8  435.0              1.845289           -4.218847e-15"
      ]
     },
     "execution_count": 9,
     "metadata": {},
     "output_type": "execute_result"
    }
   ],
   "source": [
    "Result"
   ]
  },
  {
   "cell_type": "code",
   "execution_count": 10,
   "metadata": {},
   "outputs": [
    {
     "data": {
      "text/plain": [
       "17.96722315895501"
      ]
     },
     "execution_count": 10,
     "metadata": {},
     "output_type": "execute_result"
    }
   ],
   "source": [
    "zb_sum"
   ]
  },
  {
   "cell_type": "code",
   "execution_count": null,
   "metadata": {},
   "outputs": [],
   "source": []
  }
 ],
 "metadata": {
  "kernelspec": {
   "display_name": "Python 3",
   "language": "python",
   "name": "python3"
  },
  "language_info": {
   "codemirror_mode": {
    "name": "ipython",
    "version": 3
   },
   "file_extension": ".py",
   "mimetype": "text/x-python",
   "name": "python",
   "nbconvert_exporter": "python",
   "pygments_lexer": "ipython3",
   "version": "3.7.2"
  }
 },
 "nbformat": 4,
 "nbformat_minor": 2
}
